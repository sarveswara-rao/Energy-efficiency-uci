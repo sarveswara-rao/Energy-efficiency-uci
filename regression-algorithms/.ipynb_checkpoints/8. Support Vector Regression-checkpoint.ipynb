{
 "cells": [
  {
   "cell_type": "code",
   "execution_count": 4,
   "metadata": {},
   "outputs": [],
   "source": [
    "# -*- coding: utf-8 -*-\n",
    "\"\"\"\n",
    "Created on Sat Sep  8 10:32:13 2018\n",
    "\n",
    "@author: sarveswara rao\n",
    "\"\"\"\n",
    "import warnings\n",
    "warnings.filterwarnings('ignore')\n",
    "import pandas as pd\n",
    "import numpy as np\n",
    "\n",
    "from sklearn.svm import SVR\n",
    "from sklearn.metrics import mean_squared_error, r2_score\n",
    "from sklearn.model_selection import train_test_split\n",
    "from sklearn.feature_selection import f_regression, SelectKBest\n",
    "from sklearn.preprocessing import StandardScaler\n",
    "\n",
    "import seaborn as sn\n",
    "import matplotlib.pyplot as plt\n",
    "\n",
    "def mse(y_test, y_pred):\n",
    "    print(\"\\nMSE: %.3f\\n\" % mean_squared_error(y_test, y_pred))\n",
    "\n",
    "def rmse(y_test, y_pred):\n",
    "    print(\"RMSE: %.3f\\n\" % np.sqrt(mean_squared_error(y_test, y_pred)))  \n",
    "\n",
    "def mae(y_test, y_pred):\n",
    "    error = (1/y_test.shape[0])*np.sum(np.absolute(y_test - y_pred), axis = 0)\n",
    "    print(\"MAE: %.3f\\n\" % error)  \n",
    "\n",
    "def mape(y_test, y_pred):\n",
    "    error = (100/y_test.shape[0])*np.sum(np.absolute(y_test - y_pred)/y_test, axis = 0)\n",
    "    print(\"MAPE: %.3f\\n\" % error)  \n",
    "\n",
    "def smape(y_test, y_pred):\n",
    "    error = (100/y_test.shape[0])*np.sum(np.absolute(y_test - y_pred)/((y_test+y_pred)/2), axis = 0)\n",
    "    print(\"SMAPE: %.3f\\n\" % error)  \n",
    "\n",
    "def r2(y_test, y_pred):\n",
    "    print(\"R2: %.3f\\n\" % r2_score(y_test,y_pred))\n",
    "\n",
    "def SVR_regression(X, y):\n",
    "    \n",
    "    \n",
    "  #  test = SelectKBest(score_func = f_regression, k=6).fit(X, y)\n",
    "   # X_new = test.transform(X)\n",
    "\n",
    "    # Standardazing the the X to 0 mean and unit variance\n",
    "    scaler = StandardScaler()\n",
    "    X_std = scaler.fit_transform(X)\n",
    "        \n",
    "    # Split the data into training/testing sets\n",
    "    X_train, X_test, y_train, y_test = train_test_split(\n",
    "                X_std, y, test_size = 0.33, random_state = 10)\n",
    "    \n",
    "    \n",
    "    # large c = high variance and getting more trainging points correctly, in regression that \n",
    "    # what we want \n",
    "    # low c = high bias\n",
    "    reg = SVR(C = 1000)\n",
    "    # Train the model using the training sets\n",
    "    reg.fit(X_train, y_train)\n",
    "    \n",
    "    # Make predictions using the testing set\n",
    "    y_pred = reg.predict(X_test)\n",
    "    \n",
    "    mse(y_test, y_pred)\n",
    "    rmse(y_test, y_pred)\n",
    "    mae(y_test, y_pred)\n",
    "    mape(y_test, y_pred)\n",
    "    smape(y_test, y_pred)\n",
    "    r2(y_test, y_pred) "
   ]
  },
  {
   "cell_type": "code",
   "execution_count": null,
   "metadata": {},
   "outputs": [
    {
     "name": "stdout",
     "output_type": "stream",
     "text": [
      "\n",
      "------------SVR for Heating Load------------\n"
     ]
    }
   ],
   "source": [
    "# Load the diabetes dataset\n",
    "dataset = pd.read_excel('../dataset/energy-efficiency-dataset.xlsx')\n",
    "\n",
    "# taking the first 8 columns as features\n",
    "X = pd.DataFrame(data=dataset.iloc[:, 0:8])\n",
    "\n",
    "# Y1 corresponds to heating load \n",
    "y1 = pd.DataFrame(data=dataset.iloc[:, 8])\n",
    "y2 = pd.DataFrame(data=dataset.iloc[:, 9])\n",
    "\n",
    "y1 = np.ravel(y1)\n",
    "y2 = np.ravel(y2)\n",
    "\n",
    "print(\"\\n------------SVR for Heating Load------------\")\n",
    "SVR_regression(X, y1)\n",
    "\n",
    "print(\"------------SVR for Cooling Load------------\")\n",
    "SVR_regression(X, y2) "
   ]
  },
  {
   "cell_type": "code",
   "execution_count": null,
   "metadata": {},
   "outputs": [],
   "source": []
  },
  {
   "cell_type": "code",
   "execution_count": null,
   "metadata": {},
   "outputs": [],
   "source": []
  }
 ],
 "metadata": {
  "kernelspec": {
   "display_name": "Python 3",
   "language": "python",
   "name": "python3"
  },
  "language_info": {
   "codemirror_mode": {
    "name": "ipython",
    "version": 3
   },
   "file_extension": ".py",
   "mimetype": "text/x-python",
   "name": "python",
   "nbconvert_exporter": "python",
   "pygments_lexer": "ipython3",
   "version": "3.7.3"
  }
 },
 "nbformat": 4,
 "nbformat_minor": 2
}
