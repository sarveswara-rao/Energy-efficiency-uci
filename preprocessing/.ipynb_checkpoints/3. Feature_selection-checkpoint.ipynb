{
 "cells": [
  {
   "cell_type": "markdown",
   "metadata": {},
   "source": [
    "# Feature selection\n",
    "- Feature Selection is the process of selecting a subset of relevant features for use in model construction.\n",
    "\n",
    "- Statistical tests can be used to select those features that have the strongest relationship with the output variable.\n",
    "\n",
    "- The ***scikit-learn*** library provides the ***SelectKBest*** class that can be used with different statistical tests to select a specific number of features."
   ]
  },
  {
   "cell_type": "markdown",
   "metadata": {},
   "source": [
    "# 1. ANOVA F_Value\n",
    "- It is a Univariate feature selection. It works by selecting the best features based on univariate statistical tests.\n",
    "- Linear model for testing the individual effect of each of many regressors. \n",
    "\n",
    "This is done in 2 steps:\n",
    "\n",
    "- The correlation between each regressor and the target is computed, that is,\n",
    "- It is converted to an F score then to a p-value."
   ]
  },
  {
   "cell_type": "code",
   "execution_count": 2,
   "metadata": {},
   "outputs": [
    {
     "name": "stdout",
     "output_type": "stream",
     "text": [
      "Features: Index(['X1', 'X2', 'X3', 'X4', 'X5', 'X6', 'X7', 'X8'], dtype='object')\n",
      "# features before r_regression: 8\n",
      "\n"
     ]
    }
   ],
   "source": [
    "import numpy as np\n",
    "import pandas as pd\n",
    "\n",
    "# setting the seed\n",
    "np.random.seed(0)\n",
    "\n",
    "# importing the f_regression class \n",
    "from sklearn.feature_selection import f_regression, SelectKBest\n",
    "\n",
    "#load the dataset\n",
    "df = pd.read_excel('../dataset/energy-efficiency-dataset.xlsx')\n",
    "\n",
    "X = df.iloc[:, 0:8] # selecting the first 8 columns into X\n",
    "y1 = df.iloc[:, 8] # This corresponds to heating load \n",
    "y2 = df.iloc[:, 9] # this is cooling load\n",
    "\n",
    "# Number of features before applying f_regression\n",
    "print(\"Features: {}\".format(X.columns))\n",
    "print('# features before r_regression: %d\\n' % X.shape[1])"
   ]
  },
  {
   "cell_type": "markdown",
   "metadata": {},
   "source": [
    "***SelectKBest*** selects the best k features (k value is given manually).\n",
    "- I have set k = 6 and SelectKbest will choose best 6 features based on f_scores"
   ]
  },
  {
   "cell_type": "code",
   "execution_count": 3,
   "metadata": {},
   "outputs": [
    {
     "name": "stdout",
     "output_type": "stream",
     "text": [
      "X1 F_value: 484.05\n",
      "X2 F_value: 585.26\n",
      "X3 F_value: 200.73\n",
      "X4 F_value: 2211.62\n",
      "X5 F_value: 2900.59\n",
      "X6 F_value: 0.01\n",
      "X7 F_value: 60.16\n",
      "X8 F_value: 5.89\n",
      "\n",
      "# features After r_regression: 6  | As we have set k=6\n",
      "\n",
      "Selected Features are:  ['X1', 'X2', 'X3', 'X4', 'X5', 'X7']\n"
     ]
    }
   ],
   "source": [
    "# 1. Feature selection for heating load (Y1)\n",
    "\n",
    "\n",
    "# selectkbset selects the k best features according to scores\n",
    "test = SelectKBest(score_func = f_regression, k = 6).fit(X, y1)\n",
    "X_new = test.transform(X)\n",
    "X_new = pd.DataFrame(X_new)\n",
    "\n",
    "# F_scores for each feature\n",
    "for i in range(len(X.columns)):\n",
    "    print('X%d F_value: %.2f'%(i+1, test.scores_[i]))\n",
    "    \n",
    "# Number of features after applying f_regression\n",
    "print('\\n# features After r_regression: %d  | As we have set k=6\\n' % X_new.shape[1])\n",
    "\n",
    "# Selected Features are :\n",
    "features = []\n",
    "for i in range(len(test.get_support())):\n",
    "    if(test.get_support()[i]):\n",
    "        features.append(\"X\" + str(test.get_support()[i] + i))\n",
    "print(\"Selected Features are: \" , features)"
   ]
  },
  {
   "cell_type": "code",
   "execution_count": 4,
   "metadata": {},
   "outputs": [
    {
     "name": "stdout",
     "output_type": "stream",
     "text": [
      "X1 F_value: 515.76\n",
      "X2 F_value: 634.18\n",
      "X3 F_value: 170.92\n",
      "X4 F_value: 2226.03\n",
      "X5 F_value: 3111.13\n",
      "X6 F_value: 0.16\n",
      "X7 F_value: 34.47\n",
      "X8 F_value: 1.96\n",
      "\n",
      "# features After r_regression: 6  | As we have set k=6\n",
      "\n",
      "Selected Features are:  ['X1', 'X2', 'X3', 'X4', 'X5', 'X7']\n"
     ]
    }
   ],
   "source": [
    "# 1. Feature selection for Cooling load (Y2)\n",
    "\n",
    "\n",
    "# selectkbset selects the k best features according to scores\n",
    "test = SelectKBest(score_func = f_regression, k = 6).fit(X, y2)\n",
    "X_new = test.transform(X)\n",
    "X_new = pd.DataFrame(X_new)\n",
    "\n",
    "# F_scores for each feature\n",
    "for i in range(len(X.columns)):\n",
    "    print('X%d F_value: %.2f'%(i+1, test.scores_[i]))\n",
    "    \n",
    "# Number of features after applying f_regression\n",
    "print('\\n# features After r_regression: %d  | As we have set k=6\\n' % X_new.shape[1])\n",
    "\n",
    "# Selected Features are :\n",
    "features = []\n",
    "for i in range(len(test.get_support())):\n",
    "    if(test.get_support()[i]):\n",
    "        features.append(\"X\" + str(test.get_support()[i] + i))\n",
    "print(\"Selected Features are: \" , features)"
   ]
  },
  {
   "cell_type": "markdown",
   "metadata": {},
   "source": [
    "# 2. Mutual information (MI)\n",
    "- MI between two random variables is a non-negative value, which measures the dependency between the variables. It is equal to zero if and only if two random variables are independent, and higher values mean higher dependency."
   ]
  },
  {
   "cell_type": "code",
   "execution_count": 5,
   "metadata": {},
   "outputs": [
    {
     "name": "stdout",
     "output_type": "stream",
     "text": [
      "Features: Index(['X1', 'X2', 'X3', 'X4', 'X5', 'X6', 'X7', 'X8'], dtype='object')\n",
      "\n",
      "# features before mutual_info_regression: 8\n",
      "\n"
     ]
    }
   ],
   "source": [
    "# importing the f_regression class \n",
    "from sklearn.feature_selection import mutual_info_regression, SelectKBest\n",
    "\n",
    "# Number of features before applying mutual_info_regression\n",
    "print(\"Features: {}\".format(X.columns))\n",
    "print('\\n# features before mutual_info_regression: %d\\n' % X.shape[1])"
   ]
  },
  {
   "cell_type": "code",
   "execution_count": 6,
   "metadata": {},
   "outputs": [
    {
     "name": "stdout",
     "output_type": "stream",
     "text": [
      "X1 estimated mutual info: 1.73\n",
      "X2 estimated mutual info: 1.73\n",
      "X3 estimated mutual info: 1.12\n",
      "X4 estimated mutual info: 0.93\n",
      "X5 estimated mutual info: 0.66\n",
      "X6 estimated mutual info: 0.00\n",
      "X7 estimated mutual info: 0.71\n",
      "X8 estimated mutual info: 0.22\n",
      "\n",
      "# features After r_regression: 6  | As we have set k=6\n",
      "\n",
      "Selected Features are:  ['X1', 'X2', 'X3', 'X4', 'X5', 'X7']\n"
     ]
    }
   ],
   "source": [
    "# 1. Feature selection for heating load (Y1)\n",
    "\n",
    "\n",
    "# selectkbset selects the k best features according to scores\n",
    "test = SelectKBest(score_func = mutual_info_regression, k = 6).fit(X, y1)\n",
    "X_new = test.transform(X)\n",
    "X_new = pd.DataFrame(X_new)\n",
    "\n",
    "# F_scores for each feature\n",
    "for i in range(len(X.columns)):\n",
    "    print('X%d estimated mutual info: %.2f'%(i+1, test.scores_[i]))\n",
    "    \n",
    "# Number of features after applying f_regression\n",
    "print('\\n# features After r_regression: %d  | As we have set k=6\\n' % X_new.shape[1])\n",
    "\n",
    "# Selected Features are :\n",
    "features = []\n",
    "for i in range(len(test.get_support())):\n",
    "    if(test.get_support()[i]):\n",
    "        features.append(\"X\" + str(test.get_support()[i] + i))\n",
    "print(\"Selected Features are: \" , features)"
   ]
  },
  {
   "cell_type": "code",
   "execution_count": 7,
   "metadata": {},
   "outputs": [
    {
     "name": "stdout",
     "output_type": "stream",
     "text": [
      "X1 estimated mutual info: 1.42\n",
      "X2 estimated mutual info: 1.42\n",
      "X3 estimated mutual info: 0.87\n",
      "X4 estimated mutual info: 0.88\n",
      "X5 estimated mutual info: 0.68\n",
      "X6 estimated mutual info: 0.00\n",
      "X7 estimated mutual info: 0.73\n",
      "X8 estimated mutual info: 0.15\n",
      "\n",
      "# features After r_regression: 6  | As we have set k=6\n",
      "\n",
      "Selected Features are:  ['X1', 'X2', 'X3', 'X4', 'X5', 'X7']\n"
     ]
    }
   ],
   "source": [
    "# 1. Feature selection for cooling load (Y2)\n",
    "\n",
    "\n",
    "# selectkbset selects the k best features according to scores\n",
    "test = SelectKBest(score_func = mutual_info_regression, k = 6).fit(X, y2)\n",
    "X_new = test.transform(X)\n",
    "X_new = pd.DataFrame(X_new)\n",
    "\n",
    "# F_scores for each feature\n",
    "for i in range(len(X.columns)):\n",
    "    print('X%d estimated mutual info: %.2f'%(i+1, test.scores_[i]))\n",
    "    \n",
    "# Number of features after applying f_regression\n",
    "print('\\n# features After r_regression: %d  | As we have set k=6\\n' % X_new.shape[1])\n",
    "\n",
    "# Selected Features are :\n",
    "features = []\n",
    "for i in range(len(test.get_support())):\n",
    "    if(test.get_support()[i]):\n",
    "        features.append(\"X\" + str(test.get_support()[i] + i))\n",
    "print(\"Selected Features are: \" , features)"
   ]
  }
 ],
 "metadata": {
  "kernelspec": {
   "display_name": "Python 3",
   "language": "python",
   "name": "python3"
  },
  "language_info": {
   "codemirror_mode": {
    "name": "ipython",
    "version": 3
   },
   "file_extension": ".py",
   "mimetype": "text/x-python",
   "name": "python",
   "nbconvert_exporter": "python",
   "pygments_lexer": "ipython3",
   "version": "3.7.3"
  }
 },
 "nbformat": 4,
 "nbformat_minor": 2
}
