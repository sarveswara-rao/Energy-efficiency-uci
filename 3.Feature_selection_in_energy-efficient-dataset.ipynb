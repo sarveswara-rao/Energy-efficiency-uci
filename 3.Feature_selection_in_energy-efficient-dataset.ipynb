{
 "cells": [
  {
   "cell_type": "markdown",
   "metadata": {},
   "source": [
    "# Feature selection\n",
    "- is the process of selecting a subset of relevant features for use in model construction.\n",
    "\n",
    "- Statistical tests can be used to select those features that have the strongest relationship with the output variable.\n",
    "\n",
    "- The ***scikit-learn*** library provides the ***SelectKBest*** class that can be used with different statistical tests to select a specific number of features."
   ]
  },
  {
   "cell_type": "markdown",
   "metadata": {},
   "source": [
    "***ANOVA F_Value***:\n",
    "- Univariate linear regression tests.\n",
    "- Linear model for testing the individual effect of each of many regressors. \n",
    "\n",
    "This is done in 2 steps:\n",
    "\n",
    "- The correlation between each regressor and the target is computed, that is,\n",
    "- It is converted to an F score then to a p-value."
   ]
  },
  {
   "cell_type": "code",
   "execution_count": null,
   "metadata": {},
   "outputs": [],
   "source": [
    "import numpy as np\n",
    "import pandas as pd\n",
    "\n",
    "# importing the f_regression class \n",
    "from sklearn.feature_selection import f_regression, SelectKBest\n",
    "\n",
    "#load the dataset\n",
    "df = pd.read_excel('energy-efficient-dataset.xlsx')\n",
    "\n",
    "X = df.iloc[:, 0:8] # selecting the first 8 columns into X\n",
    "y1 = df.iloc[:, 8] # Loading the 9th column into y1 \n",
    "y2 = df.iloc[:, 9] # Loading the 10th column into y2\n",
    "\n",
    "# Number of features before applying f_regression\n",
    "print(\"Features: {}\".format(X.columns))\n",
    "print('# features before r_regression: %d\\n' % X.shape[1])\n",
    "\n",
    "# selectkbset selects the k best features according to scores\n",
    "test = SelectKBest(score_func = f_regression, k = 6).fit(X, y1)\n",
    "X_new = test1.transform(X)\n",
    "X_new = pd.DataFrame(X_new)\n",
    "\n",
    "# Number of features after applying f_regression\n",
    "print('# features before r_regression: %d\\n' % X_new.shape[1])"
   ]
  },
  {
   "cell_type": "markdown",
   "metadata": {},
   "source": [
    "***SelectKBest*** selects the best k features (k value is given manually).\n",
    "- In the above case I have set k = 6 and SelectKbest chose the K features based on f_scores"
   ]
  },
  {
   "cell_type": "code",
   "execution_count": 31,
   "metadata": {},
   "outputs": [
    {
     "name": "stdout",
     "output_type": "stream",
     "text": [
      "Features: Index(['X1', 'X2', 'X3', 'X4', 'X5', 'X6', 'X7', 'X8'], dtype='object')\n",
      "# features before r_regression: 8\n",
      "\n",
      "# features before r_regression: 6\n",
      "\n",
      "X1 F_value: 484.05\n",
      "X2 F_value: 585.26\n",
      "X3 F_value: 200.73\n",
      "X4 F_value: 2211.62\n",
      "X5 F_value: 2900.59\n",
      "X6 F_value: 0.01\n",
      "X7 F_value: 60.16\n",
      "X8 F_value: 5.89\n"
     ]
    }
   ],
   "source": [
    "for i in range(len(X.columns)):\n",
    "    print('X%d F_value: %.2f'%(i+1, test1.scores_[i]))"
   ]
  },
  {
   "cell_type": "markdown",
   "metadata": {},
   "source": []
  },
  {
   "cell_type": "code",
   "execution_count": null,
   "metadata": {},
   "outputs": [],
   "source": []
  }
 ],
 "metadata": {
  "kernelspec": {
   "display_name": "Python 3",
   "language": "python",
   "name": "python3"
  },
  "language_info": {
   "codemirror_mode": {
    "name": "ipython",
    "version": 3
   },
   "file_extension": ".py",
   "mimetype": "text/x-python",
   "name": "python",
   "nbconvert_exporter": "python",
   "pygments_lexer": "ipython3",
   "version": "3.6.6"
  }
 },
 "nbformat": 4,
 "nbformat_minor": 2
}
